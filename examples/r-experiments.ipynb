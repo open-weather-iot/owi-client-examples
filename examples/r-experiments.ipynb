{
 "cells": [
  {
   "cell_type": "markdown",
   "id": "65b7faf8-4e03-46b6-baed-d001e0b6c6c4",
   "metadata": {},
   "source": [
    "# Exemplo de utilização da API REST *open weather iot* em R no Notebook Jupyter"
   ]
  },
  {
   "cell_type": "markdown",
   "id": "7de4b91b-03ca-41d9-828c-7fd4b5b1b477",
   "metadata": {},
   "source": [
    "Primeiramente, instalamos os pacotes necessários: `httr`, `jsonlite` e `readr`."
   ]
  },
  {
   "cell_type": "code",
   "execution_count": null,
   "id": "d60f0924-24ff-4b8a-9075-4f02d2a51119",
   "metadata": {},
   "outputs": [],
   "source": [
    "#install.packages(\"httr\")\n",
    "#install.packages(\"jsonlite\")\n",
    "#install.packages(\"readr\")"
   ]
  },
  {
   "cell_type": "markdown",
   "id": "3e5f5e1a-470d-4de0-bc3d-44c9f948381e",
   "metadata": {},
   "source": [
    "Importamos as bibliotecas necessárias: `httr` e `jsonlite`:"
   ]
  },
  {
   "cell_type": "code",
   "execution_count": 1,
   "id": "62f3a58f-c807-4ffb-8936-9832ecde0cd7",
   "metadata": {},
   "outputs": [],
   "source": [
    "library(httr)\n",
    "library(jsonlite)"
   ]
  },
  {
   "cell_type": "markdown",
   "id": "febd7a26-9e40-44f6-a666-1650328dcaf9",
   "metadata": {},
   "source": [
    "Agora, fazemos uma requisição *web* para o *endpoint* `/dataseries` no servidor `owi-server.onrender.com`, obtendo uma resposta em JSON da série de dados meteorológicos brutos:"
   ]
  },
  {
   "cell_type": "code",
   "execution_count": 2,
   "id": "e8f7d6a2-ab1e-4f5a-a5f0-92991bfe0348",
   "metadata": {},
   "outputs": [],
   "source": [
    "weather_data_series_json_raw <- httr::GET(url = \"https://owi-server.onrender.com/dataseries\")"
   ]
  },
  {
   "cell_type": "markdown",
   "id": "9f3b9c03-9238-4c6e-90c4-5e27b5995580",
   "metadata": {},
   "source": [
    "Convertemos a resposta em JSON `weather_data_series_json_raw` para um dataframe em R e o exibimos:"
   ]
  },
  {
   "cell_type": "code",
   "execution_count": null,
   "id": "720224f4-a28e-45c7-89bb-8e6ebf5eb419",
   "metadata": {},
   "outputs": [],
   "source": [
    "weather_data_series_json = data.frame(\n",
    "    jsonlite::fromJSON(\n",
    "        httr::content(weather_data_series_json_raw, \"text\", encoding = \"UTF-8\"),\n",
    "    ),\n",
    "    row.names = NULL\n",
    ")\n",
    "print(weather_data_series_json)"
   ]
  },
  {
   "cell_type": "markdown",
   "id": "a9a4b593-2097-4e2d-9752-7040717bf486",
   "metadata": {},
   "source": [
    "Observamos a coluna `measurements` possui os dados de medições. Os sensores disponíveis nessa coluna são os seguintes:"
   ]
  },
  {
   "cell_type": "code",
   "execution_count": 4,
   "id": "3b3a96fa-480b-4aa2-9f34-3f4483e10bba",
   "metadata": {},
   "outputs": [
    {
     "data": {
      "text/html": [
       "<style>\n",
       ".list-inline {list-style: none; margin:0; padding: 0}\n",
       ".list-inline>li {display: inline-block}\n",
       ".list-inline>li:not(:last-child)::after {content: \"\\00b7\"; padding: 0 .5ex}\n",
       "</style>\n",
       "<ol class=list-inline><li>'SYS/power/vsys'</li><li>'SYS/cpu/temperature'</li><li>'FAST-SYS/fast'</li></ol>\n"
      ],
      "text/latex": [
       "\\begin{enumerate*}\n",
       "\\item 'SYS/power/vsys'\n",
       "\\item 'SYS/cpu/temperature'\n",
       "\\item 'FAST-SYS/fast'\n",
       "\\end{enumerate*}\n"
      ],
      "text/markdown": [
       "1. 'SYS/power/vsys'\n",
       "2. 'SYS/cpu/temperature'\n",
       "3. 'FAST-SYS/fast'\n",
       "\n",
       "\n"
      ],
      "text/plain": [
       "[1] \"SYS/power/vsys\"      \"SYS/cpu/temperature\" \"FAST-SYS/fast\"      "
      ]
     },
     "metadata": {},
     "output_type": "display_data"
    }
   ],
   "source": [
    "colnames(weather_data_series_json$measurements)"
   ]
  },
  {
   "cell_type": "markdown",
   "id": "c1041486-0d4e-42ee-b41d-5769c5e24218",
   "metadata": {},
   "source": [
    "Vamos selecionar apenas as colunas que contém o valor e unidade de medida da temperatura da CPU do sistema:"
   ]
  },
  {
   "cell_type": "code",
   "execution_count": null,
   "id": "0c3446a1-e698-438a-9f22-fa590ef996fd",
   "metadata": {},
   "outputs": [],
   "source": [
    "print(weather_data_series_json$measurements$'SYS/cpu/temperature'[c('value', 'unit')])"
   ]
  },
  {
   "cell_type": "markdown",
   "id": "83e72ac1-c6bd-4604-a16c-02d35967aba1",
   "metadata": {},
   "source": [
    "A média da temperatura da CPU do sistema é:"
   ]
  },
  {
   "cell_type": "code",
   "execution_count": 6,
   "id": "ab13cb90-366c-41e3-9801-6257ceba2646",
   "metadata": {},
   "outputs": [
    {
     "data": {
      "text/html": [
       "27.0597672727273"
      ],
      "text/latex": [
       "27.0597672727273"
      ],
      "text/markdown": [
       "27.0597672727273"
      ],
      "text/plain": [
       "[1] 27.05977"
      ]
     },
     "metadata": {},
     "output_type": "display_data"
    }
   ],
   "source": [
    "mean(weather_data_series_json$measurements$'SYS/cpu/temperature'$value)"
   ]
  },
  {
   "cell_type": "code",
   "execution_count": null,
   "id": "09541ee4-d31e-4aff-a293-db3de031cbfe",
   "metadata": {},
   "outputs": [],
   "source": []
  }
 ],
 "metadata": {
  "kernelspec": {
   "display_name": "R",
   "language": "R",
   "name": "ir"
  },
  "language_info": {
   "codemirror_mode": "r",
   "file_extension": ".r",
   "mimetype": "text/x-r-source",
   "name": "R",
   "pygments_lexer": "r",
   "version": "4.2.0"
  }
 },
 "nbformat": 4,
 "nbformat_minor": 5
}
