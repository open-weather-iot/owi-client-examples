{
 "cells": [
  {
   "cell_type": "markdown",
   "id": "65b7faf8-4e03-46b6-baed-d001e0b6c6c4",
   "metadata": {},
   "source": [
    "# Exemplo de utilização da API REST *open weather iot* em Python no Notebook Jupyter"
   ]
  },
  {
   "cell_type": "markdown",
   "id": "7ce68718-a913-4ebb-a88b-57505c30d3b0",
   "metadata": {},
   "source": [
    "Primeiramente, instalamos o pacote necessário usando o ambiente anaconda: `pandas`."
   ]
  },
  {
   "cell_type": "code",
   "execution_count": 49,
   "id": "d073b396-b006-4005-ac61-eee1976e8526",
   "metadata": {},
   "outputs": [],
   "source": [
    "#!conda install -c anaconda pandas seaborn -y"
   ]
  },
  {
   "cell_type": "markdown",
   "id": "3e5f5e1a-470d-4de0-bc3d-44c9f948381e",
   "metadata": {},
   "source": [
    "Importamos a biblioteca necessária: `pandas`:"
   ]
  },
  {
   "cell_type": "code",
   "execution_count": 2,
   "id": "62f3a58f-c807-4ffb-8936-9832ecde0cd7",
   "metadata": {},
   "outputs": [],
   "source": [
    "import pandas as pd\n",
    "import numpy as np\n",
    "import seaborn as sns"
   ]
  },
  {
   "cell_type": "markdown",
   "id": "febd7a26-9e40-44f6-a666-1650328dcaf9",
   "metadata": {},
   "source": [
    "Agora, fazemos uma requisição *web* para o *endpoint* `/dataseries` no servidor `owi-server.onrender.com`, obtendo uma resposta em JSON da série de dados meteorológicos brutos:"
   ]
  },
  {
   "cell_type": "code",
   "execution_count": 15,
   "id": "e8f7d6a2-ab1e-4f5a-a5f0-92991bfe0348",
   "metadata": {},
   "outputs": [],
   "source": [
    "df_weather_data_series = pd.read_json(\"https://owi-server.onrender.com/dataseries\")"
   ]
  },
  {
   "cell_type": "markdown",
   "id": "9f3b9c03-9238-4c6e-90c4-5e27b5995580",
   "metadata": {},
   "source": [
    "Exibimos o dataframe em Pandas:"
   ]
  },
  {
   "cell_type": "code",
   "execution_count": 16,
   "id": "2b7c0280-9ca3-43e2-b661-ce5bdeeb061b",
   "metadata": {},
   "outputs": [
    {
     "data": {
      "text/html": [
       "<div>\n",
       "<style scoped>\n",
       "    .dataframe tbody tr th:only-of-type {\n",
       "        vertical-align: middle;\n",
       "    }\n",
       "\n",
       "    .dataframe tbody tr th {\n",
       "        vertical-align: top;\n",
       "    }\n",
       "\n",
       "    .dataframe thead th {\n",
       "        text-align: right;\n",
       "    }\n",
       "</style>\n",
       "<table border=\"1\" class=\"dataframe\">\n",
       "  <thead>\n",
       "    <tr style=\"text-align: right;\">\n",
       "      <th></th>\n",
       "      <th>_id</th>\n",
       "      <th>measurements</th>\n",
       "      <th>errors</th>\n",
       "      <th>timestamp</th>\n",
       "    </tr>\n",
       "  </thead>\n",
       "  <tbody>\n",
       "    <tr>\n",
       "      <th>0</th>\n",
       "      <td>6396e8a3cc5aae0033d6ea6f</td>\n",
       "      <td>{'SYS/power/vsys': {'raw': {'adc': 14035}, 'va...</td>\n",
       "      <td>[]</td>\n",
       "      <td>2022-12-12 08:38:58.272576098+00:00</td>\n",
       "    </tr>\n",
       "    <tr>\n",
       "      <th>1</th>\n",
       "      <td>6396e8a6cc5aae0033d6ea70</td>\n",
       "      <td>{'SYS/power/vsys': {'raw': {'adc': 14035}, 'va...</td>\n",
       "      <td>[]</td>\n",
       "      <td>2022-12-12 08:39:01.168450257+00:00</td>\n",
       "    </tr>\n",
       "    <tr>\n",
       "      <th>2</th>\n",
       "      <td>6396e8a9cc5aae0033d6ea71</td>\n",
       "      <td>{'SYS/power/vsys': {'raw': {'adc': 14099}, 'va...</td>\n",
       "      <td>[]</td>\n",
       "      <td>2022-12-12 08:39:04.225071237+00:00</td>\n",
       "    </tr>\n",
       "    <tr>\n",
       "      <th>3</th>\n",
       "      <td>6396e8accc5aae0033d6ea72</td>\n",
       "      <td>{'SYS/power/vsys': {'raw': {'adc': 14035}, 'va...</td>\n",
       "      <td>[]</td>\n",
       "      <td>2022-12-12 08:39:07.303824557+00:00</td>\n",
       "    </tr>\n",
       "    <tr>\n",
       "      <th>4</th>\n",
       "      <td>6396e8aecc5aae0033d6ea73</td>\n",
       "      <td>{'SYS/power/vsys': {'raw': {'adc': 14051}, 'va...</td>\n",
       "      <td>[]</td>\n",
       "      <td>2022-12-12 08:39:10.349171455+00:00</td>\n",
       "    </tr>\n",
       "    <tr>\n",
       "      <th>...</th>\n",
       "      <td>...</td>\n",
       "      <td>...</td>\n",
       "      <td>...</td>\n",
       "      <td>...</td>\n",
       "    </tr>\n",
       "    <tr>\n",
       "      <th>4069</th>\n",
       "      <td>63978e69622ae200389b0044</td>\n",
       "      <td>{}</td>\n",
       "      <td>[got error `NameError: name 'FastSampling' isn...</td>\n",
       "      <td>2022-12-12 20:26:16.940734830+00:00</td>\n",
       "    </tr>\n",
       "    <tr>\n",
       "      <th>4070</th>\n",
       "      <td>63978e96622ae200389b0045</td>\n",
       "      <td>{'SYS/cpu/temperature': {'raw': {'adc': 14163}...</td>\n",
       "      <td>[]</td>\n",
       "      <td>2022-12-12 20:27:02.087065529+00:00</td>\n",
       "    </tr>\n",
       "    <tr>\n",
       "      <th>4071</th>\n",
       "      <td>63978e98622ae200389b0046</td>\n",
       "      <td>{'SYS/cpu/temperature': {'raw': {'adc': 14179}...</td>\n",
       "      <td>[]</td>\n",
       "      <td>2022-12-12 20:27:03.755976582+00:00</td>\n",
       "    </tr>\n",
       "    <tr>\n",
       "      <th>4072</th>\n",
       "      <td>63978e9a622ae200389b0047</td>\n",
       "      <td>{'SYS/cpu/temperature': {'raw': {'adc': 14179}...</td>\n",
       "      <td>[]</td>\n",
       "      <td>2022-12-12 20:27:05.438329718+00:00</td>\n",
       "    </tr>\n",
       "    <tr>\n",
       "      <th>4073</th>\n",
       "      <td>63978e9c622ae200389b0048</td>\n",
       "      <td>{'SYS/cpu/temperature': {'raw': {'adc': 14179}...</td>\n",
       "      <td>[]</td>\n",
       "      <td>2022-12-12 20:27:07.124327801+00:00</td>\n",
       "    </tr>\n",
       "  </tbody>\n",
       "</table>\n",
       "<p>4074 rows × 4 columns</p>\n",
       "</div>"
      ],
      "text/plain": [
       "                           _id  \\\n",
       "0     6396e8a3cc5aae0033d6ea6f   \n",
       "1     6396e8a6cc5aae0033d6ea70   \n",
       "2     6396e8a9cc5aae0033d6ea71   \n",
       "3     6396e8accc5aae0033d6ea72   \n",
       "4     6396e8aecc5aae0033d6ea73   \n",
       "...                        ...   \n",
       "4069  63978e69622ae200389b0044   \n",
       "4070  63978e96622ae200389b0045   \n",
       "4071  63978e98622ae200389b0046   \n",
       "4072  63978e9a622ae200389b0047   \n",
       "4073  63978e9c622ae200389b0048   \n",
       "\n",
       "                                           measurements  \\\n",
       "0     {'SYS/power/vsys': {'raw': {'adc': 14035}, 'va...   \n",
       "1     {'SYS/power/vsys': {'raw': {'adc': 14035}, 'va...   \n",
       "2     {'SYS/power/vsys': {'raw': {'adc': 14099}, 'va...   \n",
       "3     {'SYS/power/vsys': {'raw': {'adc': 14035}, 'va...   \n",
       "4     {'SYS/power/vsys': {'raw': {'adc': 14051}, 'va...   \n",
       "...                                                 ...   \n",
       "4069                                                 {}   \n",
       "4070  {'SYS/cpu/temperature': {'raw': {'adc': 14163}...   \n",
       "4071  {'SYS/cpu/temperature': {'raw': {'adc': 14179}...   \n",
       "4072  {'SYS/cpu/temperature': {'raw': {'adc': 14179}...   \n",
       "4073  {'SYS/cpu/temperature': {'raw': {'adc': 14179}...   \n",
       "\n",
       "                                                 errors  \\\n",
       "0                                                    []   \n",
       "1                                                    []   \n",
       "2                                                    []   \n",
       "3                                                    []   \n",
       "4                                                    []   \n",
       "...                                                 ...   \n",
       "4069  [got error `NameError: name 'FastSampling' isn...   \n",
       "4070                                                 []   \n",
       "4071                                                 []   \n",
       "4072                                                 []   \n",
       "4073                                                 []   \n",
       "\n",
       "                               timestamp  \n",
       "0    2022-12-12 08:38:58.272576098+00:00  \n",
       "1    2022-12-12 08:39:01.168450257+00:00  \n",
       "2    2022-12-12 08:39:04.225071237+00:00  \n",
       "3    2022-12-12 08:39:07.303824557+00:00  \n",
       "4    2022-12-12 08:39:10.349171455+00:00  \n",
       "...                                  ...  \n",
       "4069 2022-12-12 20:26:16.940734830+00:00  \n",
       "4070 2022-12-12 20:27:02.087065529+00:00  \n",
       "4071 2022-12-12 20:27:03.755976582+00:00  \n",
       "4072 2022-12-12 20:27:05.438329718+00:00  \n",
       "4073 2022-12-12 20:27:07.124327801+00:00  \n",
       "\n",
       "[4074 rows x 4 columns]"
      ]
     },
     "execution_count": 16,
     "metadata": {},
     "output_type": "execute_result"
    }
   ],
   "source": [
    "df_weather_data_series"
   ]
  },
  {
   "cell_type": "markdown",
   "id": "8ff00e85-c8d1-4d64-9ea3-b571c19ec705",
   "metadata": {},
   "source": [
    "Observamos que o formato da coluna `measurements` é JSON. Os sensores disponíveis nessa coluna são os seguintes:"
   ]
  },
  {
   "cell_type": "code",
   "execution_count": 20,
   "id": "f297cd5b-c713-4f21-adc3-c0f53791c69d",
   "metadata": {},
   "outputs": [
    {
     "data": {
      "text/plain": [
       "Index(['SYS/power/vsys', 'SYS/cpu/temperature', 'FAST-SYS/fast'], dtype='object')"
      ]
     },
     "execution_count": 20,
     "metadata": {},
     "output_type": "execute_result"
    }
   ],
   "source": [
    "sensors = pd.json_normalize(df_weather_data_series.measurements, max_level=0)\n",
    "sensors.columns"
   ]
  },
  {
   "cell_type": "markdown",
   "id": "16f008f8-878f-493c-a822-5675422aeec6",
   "metadata": {},
   "source": [
    "Vamos normalizar a coluna `measurements` para um dataframe:"
   ]
  },
  {
   "cell_type": "code",
   "execution_count": 6,
   "id": "38ff867b-155d-45ac-96b5-8cd4f34ce082",
   "metadata": {},
   "outputs": [
    {
     "data": {
      "text/html": [
       "<div>\n",
       "<style scoped>\n",
       "    .dataframe tbody tr th:only-of-type {\n",
       "        vertical-align: middle;\n",
       "    }\n",
       "\n",
       "    .dataframe tbody tr th {\n",
       "        vertical-align: top;\n",
       "    }\n",
       "\n",
       "    .dataframe thead th {\n",
       "        text-align: right;\n",
       "    }\n",
       "</style>\n",
       "<table border=\"1\" class=\"dataframe\">\n",
       "  <thead>\n",
       "    <tr style=\"text-align: right;\">\n",
       "      <th></th>\n",
       "      <th>SYS/power/vsys/raw/adc</th>\n",
       "      <th>SYS/power/vsys/value</th>\n",
       "      <th>SYS/power/vsys/unit</th>\n",
       "      <th>SYS/cpu/temperature/raw/adc</th>\n",
       "      <th>SYS/cpu/temperature/value</th>\n",
       "      <th>SYS/cpu/temperature/unit</th>\n",
       "      <th>FAST-SYS/fast/raw</th>\n",
       "      <th>FAST-SYS/fast/value</th>\n",
       "      <th>FAST-SYS/fast/unit</th>\n",
       "      <th>timestamp</th>\n",
       "    </tr>\n",
       "  </thead>\n",
       "  <tbody>\n",
       "    <tr>\n",
       "      <th>0</th>\n",
       "      <td>14035</td>\n",
       "      <td>0.706729</td>\n",
       "      <td>V</td>\n",
       "      <td>14035</td>\n",
       "      <td>26.57626</td>\n",
       "      <td>ºC</td>\n",
       "      <td>None</td>\n",
       "      <td>None</td>\n",
       "      <td></td>\n",
       "      <td>2022-12-12 08:38:58.272576098+00:00</td>\n",
       "    </tr>\n",
       "    <tr>\n",
       "      <th>1</th>\n",
       "      <td>14035</td>\n",
       "      <td>0.706729</td>\n",
       "      <td>V</td>\n",
       "      <td>14035</td>\n",
       "      <td>26.57626</td>\n",
       "      <td>ºC</td>\n",
       "      <td>None</td>\n",
       "      <td>None</td>\n",
       "      <td></td>\n",
       "      <td>2022-12-12 08:39:01.168450257+00:00</td>\n",
       "    </tr>\n",
       "    <tr>\n",
       "      <th>2</th>\n",
       "      <td>14099</td>\n",
       "      <td>0.709952</td>\n",
       "      <td>V</td>\n",
       "      <td>14115</td>\n",
       "      <td>24.23554</td>\n",
       "      <td>ºC</td>\n",
       "      <td>None</td>\n",
       "      <td>None</td>\n",
       "      <td></td>\n",
       "      <td>2022-12-12 08:39:04.225071237+00:00</td>\n",
       "    </tr>\n",
       "    <tr>\n",
       "      <th>3</th>\n",
       "      <td>14035</td>\n",
       "      <td>0.706729</td>\n",
       "      <td>V</td>\n",
       "      <td>14035</td>\n",
       "      <td>26.57626</td>\n",
       "      <td>ºC</td>\n",
       "      <td>None</td>\n",
       "      <td>None</td>\n",
       "      <td></td>\n",
       "      <td>2022-12-12 08:39:07.303824557+00:00</td>\n",
       "    </tr>\n",
       "    <tr>\n",
       "      <th>4</th>\n",
       "      <td>14051</td>\n",
       "      <td>0.707535</td>\n",
       "      <td>V</td>\n",
       "      <td>14051</td>\n",
       "      <td>26.10811</td>\n",
       "      <td>ºC</td>\n",
       "      <td>None</td>\n",
       "      <td>None</td>\n",
       "      <td></td>\n",
       "      <td>2022-12-12 08:39:10.349171455+00:00</td>\n",
       "    </tr>\n",
       "    <tr>\n",
       "      <th>...</th>\n",
       "      <td>...</td>\n",
       "      <td>...</td>\n",
       "      <td>...</td>\n",
       "      <td>...</td>\n",
       "      <td>...</td>\n",
       "      <td>...</td>\n",
       "      <td>...</td>\n",
       "      <td>...</td>\n",
       "      <td>...</td>\n",
       "      <td>...</td>\n",
       "    </tr>\n",
       "    <tr>\n",
       "      <th>3803</th>\n",
       "      <td>14051</td>\n",
       "      <td>0.707535</td>\n",
       "      <td>V</td>\n",
       "      <td>14019</td>\n",
       "      <td>27.04440</td>\n",
       "      <td>ºC</td>\n",
       "      <td>None</td>\n",
       "      <td>None</td>\n",
       "      <td></td>\n",
       "      <td>2022-12-12 12:14:41.459088258+00:00</td>\n",
       "    </tr>\n",
       "    <tr>\n",
       "      <th>3804</th>\n",
       "      <td>14003</td>\n",
       "      <td>0.705118</td>\n",
       "      <td>V</td>\n",
       "      <td>14003</td>\n",
       "      <td>27.51254</td>\n",
       "      <td>ºC</td>\n",
       "      <td>None</td>\n",
       "      <td>None</td>\n",
       "      <td></td>\n",
       "      <td>2022-12-12 12:14:44.540469590+00:00</td>\n",
       "    </tr>\n",
       "    <tr>\n",
       "      <th>3805</th>\n",
       "      <td>14019</td>\n",
       "      <td>0.705924</td>\n",
       "      <td>V</td>\n",
       "      <td>14019</td>\n",
       "      <td>27.04440</td>\n",
       "      <td>ºC</td>\n",
       "      <td>None</td>\n",
       "      <td>None</td>\n",
       "      <td></td>\n",
       "      <td>2022-12-12 12:15:03.016030056+00:00</td>\n",
       "    </tr>\n",
       "    <tr>\n",
       "      <th>3806</th>\n",
       "      <td>14003</td>\n",
       "      <td>0.705118</td>\n",
       "      <td>V</td>\n",
       "      <td>14003</td>\n",
       "      <td>27.51254</td>\n",
       "      <td>ºC</td>\n",
       "      <td>None</td>\n",
       "      <td>None</td>\n",
       "      <td></td>\n",
       "      <td>2022-12-12 12:15:06.069107344+00:00</td>\n",
       "    </tr>\n",
       "    <tr>\n",
       "      <th>3807</th>\n",
       "      <td>14003</td>\n",
       "      <td>0.705118</td>\n",
       "      <td>V</td>\n",
       "      <td>14003</td>\n",
       "      <td>27.51254</td>\n",
       "      <td>ºC</td>\n",
       "      <td>None</td>\n",
       "      <td>None</td>\n",
       "      <td></td>\n",
       "      <td>2022-12-12 12:15:09.124032510+00:00</td>\n",
       "    </tr>\n",
       "  </tbody>\n",
       "</table>\n",
       "<p>3808 rows × 10 columns</p>\n",
       "</div>"
      ],
      "text/plain": [
       "      SYS/power/vsys/raw/adc  SYS/power/vsys/value SYS/power/vsys/unit  \\\n",
       "0                      14035              0.706729                   V   \n",
       "1                      14035              0.706729                   V   \n",
       "2                      14099              0.709952                   V   \n",
       "3                      14035              0.706729                   V   \n",
       "4                      14051              0.707535                   V   \n",
       "...                      ...                   ...                 ...   \n",
       "3803                   14051              0.707535                   V   \n",
       "3804                   14003              0.705118                   V   \n",
       "3805                   14019              0.705924                   V   \n",
       "3806                   14003              0.705118                   V   \n",
       "3807                   14003              0.705118                   V   \n",
       "\n",
       "      SYS/cpu/temperature/raw/adc  SYS/cpu/temperature/value  \\\n",
       "0                           14035                   26.57626   \n",
       "1                           14035                   26.57626   \n",
       "2                           14115                   24.23554   \n",
       "3                           14035                   26.57626   \n",
       "4                           14051                   26.10811   \n",
       "...                           ...                        ...   \n",
       "3803                        14019                   27.04440   \n",
       "3804                        14003                   27.51254   \n",
       "3805                        14019                   27.04440   \n",
       "3806                        14003                   27.51254   \n",
       "3807                        14003                   27.51254   \n",
       "\n",
       "     SYS/cpu/temperature/unit FAST-SYS/fast/raw FAST-SYS/fast/value  \\\n",
       "0                          ºC              None                None   \n",
       "1                          ºC              None                None   \n",
       "2                          ºC              None                None   \n",
       "3                          ºC              None                None   \n",
       "4                          ºC              None                None   \n",
       "...                       ...               ...                 ...   \n",
       "3803                       ºC              None                None   \n",
       "3804                       ºC              None                None   \n",
       "3805                       ºC              None                None   \n",
       "3806                       ºC              None                None   \n",
       "3807                       ºC              None                None   \n",
       "\n",
       "     FAST-SYS/fast/unit                           timestamp  \n",
       "0                       2022-12-12 08:38:58.272576098+00:00  \n",
       "1                       2022-12-12 08:39:01.168450257+00:00  \n",
       "2                       2022-12-12 08:39:04.225071237+00:00  \n",
       "3                       2022-12-12 08:39:07.303824557+00:00  \n",
       "4                       2022-12-12 08:39:10.349171455+00:00  \n",
       "...                 ...                                 ...  \n",
       "3803                    2022-12-12 12:14:41.459088258+00:00  \n",
       "3804                    2022-12-12 12:14:44.540469590+00:00  \n",
       "3805                    2022-12-12 12:15:03.016030056+00:00  \n",
       "3806                    2022-12-12 12:15:06.069107344+00:00  \n",
       "3807                    2022-12-12 12:15:09.124032510+00:00  \n",
       "\n",
       "[3808 rows x 10 columns]"
      ]
     },
     "execution_count": 6,
     "metadata": {},
     "output_type": "execute_result"
    }
   ],
   "source": [
    "weather = pd.json_normalize(df_weather_data_series.measurements, sep='/')\n",
    "weather = pd.concat([weather, df_weather_data_series.timestamp], axis=1, join='inner', copy=False)\n",
    "weather"
   ]
  },
  {
   "cell_type": "markdown",
   "id": "dad1f27c-80ae-4bf9-af89-c43b4efd0eed",
   "metadata": {},
   "source": [
    "Vamos selecionar apenas as colunas que contém o valor e unidade de medida da temperatura da CPU do sistema:"
   ]
  },
  {
   "cell_type": "code",
   "execution_count": 63,
   "id": "d8e09da0-7f22-4de7-938c-16a701294baa",
   "metadata": {},
   "outputs": [
    {
     "data": {
      "text/html": [
       "<div>\n",
       "<style scoped>\n",
       "    .dataframe tbody tr th:only-of-type {\n",
       "        vertical-align: middle;\n",
       "    }\n",
       "\n",
       "    .dataframe tbody tr th {\n",
       "        vertical-align: top;\n",
       "    }\n",
       "\n",
       "    .dataframe thead th {\n",
       "        text-align: right;\n",
       "    }\n",
       "</style>\n",
       "<table border=\"1\" class=\"dataframe\">\n",
       "  <thead>\n",
       "    <tr style=\"text-align: right;\">\n",
       "      <th></th>\n",
       "      <th>SYS/cpu/temperature/value</th>\n",
       "      <th>SYS/cpu/temperature/unit</th>\n",
       "    </tr>\n",
       "  </thead>\n",
       "  <tbody>\n",
       "    <tr>\n",
       "      <th>0</th>\n",
       "      <td>26.57626</td>\n",
       "      <td>ºC</td>\n",
       "    </tr>\n",
       "    <tr>\n",
       "      <th>1</th>\n",
       "      <td>26.57626</td>\n",
       "      <td>ºC</td>\n",
       "    </tr>\n",
       "    <tr>\n",
       "      <th>2</th>\n",
       "      <td>24.23554</td>\n",
       "      <td>ºC</td>\n",
       "    </tr>\n",
       "    <tr>\n",
       "      <th>3</th>\n",
       "      <td>26.57626</td>\n",
       "      <td>ºC</td>\n",
       "    </tr>\n",
       "    <tr>\n",
       "      <th>4</th>\n",
       "      <td>26.10811</td>\n",
       "      <td>ºC</td>\n",
       "    </tr>\n",
       "    <tr>\n",
       "      <th>...</th>\n",
       "      <td>...</td>\n",
       "      <td>...</td>\n",
       "    </tr>\n",
       "    <tr>\n",
       "      <th>3719</th>\n",
       "      <td>27.04440</td>\n",
       "      <td>ºC</td>\n",
       "    </tr>\n",
       "    <tr>\n",
       "      <th>3720</th>\n",
       "      <td>27.51254</td>\n",
       "      <td>ºC</td>\n",
       "    </tr>\n",
       "    <tr>\n",
       "      <th>3721</th>\n",
       "      <td>27.51254</td>\n",
       "      <td>ºC</td>\n",
       "    </tr>\n",
       "    <tr>\n",
       "      <th>3722</th>\n",
       "      <td>27.04440</td>\n",
       "      <td>ºC</td>\n",
       "    </tr>\n",
       "    <tr>\n",
       "      <th>3723</th>\n",
       "      <td>27.51254</td>\n",
       "      <td>ºC</td>\n",
       "    </tr>\n",
       "  </tbody>\n",
       "</table>\n",
       "<p>3724 rows × 2 columns</p>\n",
       "</div>"
      ],
      "text/plain": [
       "      SYS/cpu/temperature/value SYS/cpu/temperature/unit\n",
       "0                      26.57626                       ºC\n",
       "1                      26.57626                       ºC\n",
       "2                      24.23554                       ºC\n",
       "3                      26.57626                       ºC\n",
       "4                      26.10811                       ºC\n",
       "...                         ...                      ...\n",
       "3719                   27.04440                       ºC\n",
       "3720                   27.51254                       ºC\n",
       "3721                   27.51254                       ºC\n",
       "3722                   27.04440                       ºC\n",
       "3723                   27.51254                       ºC\n",
       "\n",
       "[3724 rows x 2 columns]"
      ]
     },
     "execution_count": 63,
     "metadata": {},
     "output_type": "execute_result"
    }
   ],
   "source": [
    "weather[['SYS/cpu/temperature/value', 'SYS/cpu/temperature/unit']]"
   ]
  },
  {
   "cell_type": "markdown",
   "id": "fc7de1b0-cc2e-43a5-8677-6ad015390415",
   "metadata": {},
   "source": [
    "A média da temperatura da CPU do sistema é:"
   ]
  },
  {
   "cell_type": "code",
   "execution_count": 64,
   "id": "31b1b769-c260-4ae3-9245-85f622472e3d",
   "metadata": {},
   "outputs": [
    {
     "data": {
      "text/plain": [
       "26.996000692802948"
      ]
     },
     "execution_count": 64,
     "metadata": {},
     "output_type": "execute_result"
    }
   ],
   "source": [
    "weather['SYS/cpu/temperature/value'].mean()"
   ]
  },
  {
   "cell_type": "markdown",
   "id": "1b2a3b56-6395-4663-ba26-03398d1996d0",
   "metadata": {},
   "source": [
    "A média da temperatura da CPU e da voltagem do sistema (calcular a média de diversas colunas simultaneamente) é:"
   ]
  },
  {
   "cell_type": "code",
   "execution_count": 65,
   "id": "6e9a10de-890a-4dc5-afb8-5c12269ed715",
   "metadata": {},
   "outputs": [
    {
     "data": {
      "text/plain": [
       "SYS/cpu/temperature/value    26.996001\n",
       "SYS/power/vsys/value          0.705979\n",
       "dtype: float64"
      ]
     },
     "execution_count": 65,
     "metadata": {},
     "output_type": "execute_result"
    }
   ],
   "source": [
    "weather[['SYS/cpu/temperature/value', 'SYS/power/vsys/value']].mean()"
   ]
  },
  {
   "cell_type": "markdown",
   "id": "558342bf-1689-4e61-a71b-cd5245faa7a0",
   "metadata": {},
   "source": [
    "Podemos também fazer um gráfico da variação da temperatura da CPU:"
   ]
  },
  {
   "cell_type": "code",
   "execution_count": 96,
   "id": "714edc56-577d-4b85-8bf4-58758afb46b4",
   "metadata": {},
   "outputs": [
    {
     "data": {
      "text/plain": [
       "<matplotlib.legend.Legend at 0x7fb98b863400>"
      ]
     },
     "execution_count": 96,
     "metadata": {},
     "output_type": "execute_result"
    },
    {
     "data": {
      "image/png": "[encoded data removed]",
      "text/plain": [
       "<Figure size 432x288 with 1 Axes>"
      ]
     },
     "metadata": {
      "needs_background": "light"
     },
     "output_type": "display_data"
    }
   ],
   "source": [
    "g = sns.lineplot(data=weather[['SYS/cpu/temperature/value']])\n",
    "g.set_ylabel('°C')\n",
    "g.legend(loc='upper right', labels=['Temperatura da CPU'])"
   ]
  },
  {
   "cell_type": "code",
   "execution_count": 7,
   "id": "09541ee4-d31e-4aff-a293-db3de031cbfe",
   "metadata": {},
   "outputs": [
    {
     "data": {
      "text/plain": [
       "<matplotlib.legend.Legend at 0x7f86ac371af0>"
      ]
     },
     "execution_count": 7,
     "metadata": {},
     "output_type": "execute_result"
    },
    {
     "data": {
      "image/png": "[encoded data removed]",
      "text/plain": [
       "<Figure size 432x288 with 1 Axes>"
      ]
     },
     "metadata": {
      "needs_background": "light"
     },
     "output_type": "display_data"
    }
   ],
   "source": [
    "g = sns.lineplot(data=weather[['SYS/power/vsys/value']])\n",
    "g.set_ylabel('V')\n",
    "g.legend(loc='upper right', labels=['Tensão interna'])"
   ]
  },
  {
   "cell_type": "code",
   "execution_count": null,
   "id": "e5a731b9-d460-4927-8672-b47abdc452c5",
   "metadata": {},
   "outputs": [],
   "source": []
  }
 ],
 "metadata": {
  "kernelspec": {
   "display_name": "Python 3 (ipykernel)",
   "language": "python",
   "name": "python3"
  },
  "language_info": {
   "codemirror_mode": {
    "name": "ipython",
    "version": 3
   },
   "file_extension": ".py",
   "mimetype": "text/x-python",
   "name": "python",
   "nbconvert_exporter": "python",
   "pygments_lexer": "ipython3",
   "version": "3.9.12"
  }
 },
 "nbformat": 4,
 "nbformat_minor": 5
}
